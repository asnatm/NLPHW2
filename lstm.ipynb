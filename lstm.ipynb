{
 "cells": [
  {
   "cell_type": "markdown",
   "metadata": {},
   "source": [
    "# Q3 -  RNN (LSTM) for Document Classification"
   ]
  },
  {
   "cell_type": "markdown",
   "metadata": {},
   "source": [
    "## 3.1 Run the example"
   ]
  },
  {
   "cell_type": "code",
   "execution_count": 1,
   "metadata": {
    "collapsed": false,
    "scrolled": true
   },
   "outputs": [],
   "source": [
    "from __future__ import division, print_function, absolute_import\n",
    "\n",
    "import tflearn\n",
    "from tflearn.data_utils import to_categorical, pad_sequences\n"
   ]
  },
  {
   "cell_type": "code",
   "execution_count": 2,
   "metadata": {
    "collapsed": true
   },
   "outputs": [],
   "source": [
    "from tflearn.datasets import imdb\n",
    "\n",
    "# IMDB Dataset loading\n",
    "train, test, _ = imdb.load_data(path='imdb.pkl', n_words=10000,\n",
    "                                valid_portion=0.1)\n",
    "trainX, trainY = train\n",
    "testX, testY = test\n",
    "\n",
    "# Data preprocessing\n",
    "# Sequence padding\n",
    "trainX = pad_sequences(trainX, maxlen=100, value=0.)\n",
    "testX = pad_sequences(testX, maxlen=100, value=0.)\n",
    "# Converting labels to binary vectors\n",
    "trainY = to_categorical(trainY, nb_classes=2)\n",
    "testY = to_categorical(testY, nb_classes=2)"
   ]
  },
  {
   "cell_type": "code",
   "execution_count": 3,
   "metadata": {
    "collapsed": false
   },
   "outputs": [
    {
     "name": "stdout",
     "output_type": "stream",
     "text": [
      "Training Step: 7040  | total loss: \u001b[1m\u001b[32m0.08254\u001b[0m\u001b[0m\n",
      "| Adam | epoch: 010 | loss: 0.08254 - acc: 0.9837 | val_loss: 0.76012 - val_acc: 0.8088 -- iter: 22500/22500\n",
      "Training Step: 7040  | total loss: \u001b[1m\u001b[32m0.08254\u001b[0m\u001b[0m\n",
      "| Adam | epoch: 010 | loss: 0.08254 - acc: 0.9837 | val_loss: 0.76012 - val_acc: 0.8088 -- iter: 22500/22500\n",
      "--\n"
     ]
    }
   ],
   "source": [
    "import tensorflow as tf\n",
    "# tf reseting\n",
    "tf.reset_default_graph()\n",
    "\n",
    "# Network building\n",
    "net = tflearn.input_data([None, 100])\n",
    "net = tflearn.embedding(net, input_dim=10000, output_dim=128)\n",
    "net = tflearn.lstm(net, 128, dropout=0.8)\n",
    "net = tflearn.fully_connected(net, 2, activation='softmax')\n",
    "net = tflearn.regression(net, optimizer='adam', learning_rate=0.001,\n",
    "                         loss='categorical_crossentropy')\n",
    "\n",
    "# Training\n",
    "model = tflearn.DNN(net, tensorboard_verbose=0)\n",
    "model.fit(trainX, trainY, validation_set=(testX, testY), show_metric=True,\n",
    "batch_size=32)"
   ]
  },
  {
   "cell_type": "markdown",
   "metadata": {},
   "source": [
    "## 3.2 MLP Baseline"
   ]
  },
  {
   "cell_type": "code",
   "execution_count": 1,
   "metadata": {
    "collapsed": true
   },
   "outputs": [],
   "source": [
    "from __future__ import division, print_function, absolute_import\n",
    "\n",
    "import tflearn\n",
    "from tflearn.data_utils import to_categorical, pad_sequences\n",
    "from tflearn.datasets import imdb\n",
    "import tensorflow as tf"
   ]
  },
  {
   "cell_type": "code",
   "execution_count": 2,
   "metadata": {
    "collapsed": false
   },
   "outputs": [],
   "source": [
    "n_words = 10000\n",
    "\n",
    "# IMDB Dataset loading\n",
    "train, test, _ = imdb.load_data(path='imdb.pkl', n_words=n_words,\n",
    "                                valid_portion=0.1)\n",
    "trainX, trainY = train\n",
    "testX, testY = test"
   ]
  },
  {
   "cell_type": "markdown",
   "metadata": {},
   "source": [
    "We'll now convert our X vectors to sentences of one-hot words, for the classifier to work without further embedding. Labels will be adjusted as before. "
   ]
  },
  {
   "cell_type": "code",
   "execution_count": 3,
   "metadata": {
    "collapsed": false
   },
   "outputs": [],
   "source": [
    "def sent2vec(sent):\n",
    "    vec = [0] * n_words\n",
    "    for idx in sent:\n",
    "        vec[idx] += 1\n",
    "    return vec\n",
    "\n",
    "# Converting sentence vectors to word count vectors\n",
    "trainX_feat = [sent2vec(sent) for sent in trainX]\n",
    "testX_feat = [sent2vec(sent) for sent in testX]\n",
    "\n",
    "# Converting labels to binary vectors\n",
    "trainY_cat = to_categorical(trainY, nb_classes=2)\n",
    "testY_cat = to_categorical(testY, nb_classes=2)"
   ]
  },
  {
   "cell_type": "code",
   "execution_count": 4,
   "metadata": {
    "collapsed": false
   },
   "outputs": [],
   "source": [
    "# tf reseting\n",
    "tf.reset_default_graph()\n",
    "\n",
    "# Network building\n",
    "net2 = tflearn.input_data([None, n_words])\n",
    "net2 = tflearn.fully_connected(net2, 512, activation='relu')\n",
    "net2 = tflearn.dropout(net2, 0.5)\n",
    "net2 = tflearn.fully_connected(net2, 2, activation='softmax')\n",
    "net2 = tflearn.regression(net2, optimizer='adam', learning_rate=0.001,\n",
    "                         loss='categorical_crossentropy')"
   ]
  },
  {
   "cell_type": "code",
   "execution_count": 5,
   "metadata": {
    "collapsed": false
   },
   "outputs": [
    {
     "name": "stdout",
     "output_type": "stream",
     "text": [
      "Training Step: 7040  | total loss: \u001b[1m\u001b[32m0.10952\u001b[0m\u001b[0m\n",
      "| Adam | epoch: 010 | loss: 0.10952 - acc: 0.9758 | val_loss: 0.50196 - val_acc: 0.8844 -- iter: 22500/22500\n",
      "Training Step: 7040  | total loss: \u001b[1m\u001b[32m0.10952\u001b[0m\u001b[0m\n",
      "| Adam | epoch: 010 | loss: 0.10952 - acc: 0.9758 | val_loss: 0.50196 - val_acc: 0.8844 -- iter: 22500/22500\n",
      "--\n"
     ]
    }
   ],
   "source": [
    "# Training\n",
    "model2 = tflearn.DNN(net2, tensorboard_verbose=0)\n",
    "model2.fit(trainX_feat, trainY_cat, validation_set=(testX_feat, testY_cat), show_metric=True,\n",
    "batch_size=32)"
   ]
  },
  {
   "cell_type": "markdown",
   "metadata": {},
   "source": [
    "## 3.3"
   ]
  },
  {
   "cell_type": "markdown",
   "metadata": {},
   "source": [
    "### 3.3.1 encode_doc(string) & decode_doc(ids)"
   ]
  },
  {
   "cell_type": "code",
   "execution_count": 14,
   "metadata": {
    "collapsed": false
   },
   "outputs": [],
   "source": [
    "from reuters import load_data, get_word_index\n",
    "\n",
    "\n",
    "(X_train, y_train), (X_test, y_test) = load_data()\n",
    "data = get_word_index()"
   ]
  },
  {
   "cell_type": "code",
   "execution_count": 15,
   "metadata": {
    "collapsed": false
   },
   "outputs": [],
   "source": [
    "from nltk import word_tokenize\n",
    "inv_data = {value: key for key, value in data.items()}\n",
    "\n",
    "def encode_doc(string):\n",
    "    return [data[word] for word in word_tokenize(string) if word in data]\n",
    "\n",
    "def decode_doc(ids):\n",
    "    return [inv_data[i] for i in ids if i in inv_data]"
   ]
  },
  {
   "cell_type": "markdown",
   "metadata": {},
   "source": [
    "### 3.3.2 TFLearn version on the Reuters dataset"
   ]
  },
  {
   "cell_type": "markdown",
   "metadata": {},
   "source": []
  },
  {
   "cell_type": "code",
   "execution_count": 8,
   "metadata": {
    "collapsed": false
   },
   "outputs": [],
   "source": [
    "# Data preprocessing\n",
    "# Sequence padding\n",
    "label_num = max(y_train) + 1\n",
    "X_train = pad_sequences(X_train, maxlen=100, value=0.)\n",
    "X_test = pad_sequences(X_test, maxlen=100, value=0.)\n",
    "# Converting labels to binary vectors\n",
    "y_train = to_categorical(y_train, nb_classes=label_num)\n",
    "y_test = to_categorical(y_test, nb_classes=label_num)"
   ]
  },
  {
   "cell_type": "code",
   "execution_count": 13,
   "metadata": {
    "collapsed": false
   },
   "outputs": [],
   "source": [
    "# TensorFlow resseting\n",
    "import tensorflow as tf\n",
    "tf.reset_default_graph()\n",
    "\n",
    "# Network building\n",
    "net3 = tflearn.input_data([None, 100])\n",
    "net3 = tflearn.embedding(net3, input_dim=len(data) + 1, output_dim=128)\n",
    "net3 = tflearn.lstm(net3, 128, dropout=0.8)\n",
    "net3 = tflearn.fully_connected(net3, label_num, activation='softmax')\n",
    "net3 = tflearn.regression(net3, optimizer='adam', learning_rate=0.001,\n",
    "                         loss='categorical_crossentropy')\n"
   ]
  },
  {
   "cell_type": "code",
   "execution_count": 14,
   "metadata": {
    "collapsed": false
   },
   "outputs": [
    {
     "name": "stdout",
     "output_type": "stream",
     "text": [
      "Training Step: 2810  | total loss: \u001b[1m\u001b[32m0.80846\u001b[0m\u001b[0m\n",
      "| Adam | epoch: 010 | loss: 0.80846 - acc: 0.8031 | val_loss: 1.50635 - val_acc: 0.6523 -- iter: 8982/8982\n",
      "Training Step: 2810  | total loss: \u001b[1m\u001b[32m0.80846\u001b[0m\u001b[0m\n",
      "| Adam | epoch: 010 | loss: 0.80846 - acc: 0.8031 | val_loss: 1.50635 - val_acc: 0.6523 -- iter: 8982/8982\n",
      "--\n"
     ]
    }
   ],
   "source": [
    "# Training\n",
    "model3 = tflearn.DNN(net3, tensorboard_verbose=0)\n",
    "model3.fit(X_train, y_train, validation_set=(X_test, y_test), show_metric=True,\n",
    "batch_size=32)"
   ]
  },
  {
   "cell_type": "markdown",
   "metadata": {
    "collapsed": false
   },
   "source": [
    "### 3.3.3a classify_doc(string)"
   ]
  },
  {
   "cell_type": "code",
   "execution_count": 3,
   "metadata": {
    "collapsed": false
   },
   "outputs": [],
   "source": [
    "def classify_doc(string):\n",
    "    encoded_doc = encode_doc(string)\n",
    "    padded_doc = pad_sequences([encoded_doc], maxlen=100, value=0.)\n",
    "    return model3.predict(padded_doc)"
   ]
  },
  {
   "cell_type": "markdown",
   "metadata": {
    "collapsed": true
   },
   "source": [
    "### 3.3.3b Explore the Reuters dataset"
   ]
  },
  {
   "cell_type": "markdown",
   "metadata": {},
   "source": [
    "Explore the Reuters dataset: report on number of classes, number of docs per class, size of docs (number of words per doc) - use Pandas. "
   ]
  },
  {
   "cell_type": "code",
   "execution_count": 4,
   "metadata": {
    "collapsed": false
   },
   "outputs": [
    {
     "name": "stderr",
     "output_type": "stream",
     "text": [
      "Using TensorFlow backend.\n"
     ]
    },
    {
     "data": {
      "text/plain": [
       "category\n",
       "0       67\n",
       "1      537\n",
       "2       94\n",
       "3     3972\n",
       "4     2423\n",
       "5       22\n",
       "6       62\n",
       "7       19\n",
       "8      177\n",
       "9      126\n",
       "10     154\n",
       "11     473\n",
       "12      62\n",
       "13     209\n",
       "14      28\n",
       "15      29\n",
       "16     543\n",
       "17      51\n",
       "18      86\n",
       "19     682\n",
       "20     339\n",
       "21     127\n",
       "22      22\n",
       "23      53\n",
       "24      81\n",
       "25     123\n",
       "26      32\n",
       "27      19\n",
       "28      58\n",
       "29      23\n",
       "30      57\n",
       "31      52\n",
       "32      42\n",
       "33      16\n",
       "34      57\n",
       "35      16\n",
       "36      60\n",
       "37      21\n",
       "38      22\n",
       "39      29\n",
       "40      46\n",
       "41      38\n",
       "42      16\n",
       "43      27\n",
       "44      17\n",
       "45      19\n",
       "dtype: int64"
      ]
     },
     "execution_count": 4,
     "metadata": {},
     "output_type": "execute_result"
    }
   ],
   "source": [
    "from reuters import load_data, get_word_index\n",
    "import pandas as pd\n",
    "from pandas import DataFrame\n",
    "\n",
    "\n",
    "(X, y), (_,_) = load_data(test_split=0.0)\n",
    "data = get_word_index()\n",
    "\n",
    "doc_lengths = [len(x) for x in X]\n",
    "df = DataFrame(list(zip(doc_lengths, y)), columns=[\"length\", \"category\"])\n",
    "df_by_cat = df.groupby(\"category\")\n",
    "df_by_cat.size()"
   ]
  },
  {
   "cell_type": "markdown",
   "metadata": {},
   "source": [
    "Thus, there are 46 categories. The size of docs:"
   ]
  },
  {
   "cell_type": "code",
   "execution_count": 5,
   "metadata": {
    "collapsed": false
   },
   "outputs": [
    {
     "data": {
      "text/html": [
       "<div>\n",
       "<table border=\"1\" class=\"dataframe\">\n",
       "  <thead>\n",
       "    <tr style=\"text-align: right;\">\n",
       "      <th></th>\n",
       "      <th>length</th>\n",
       "      <th>category</th>\n",
       "    </tr>\n",
       "  </thead>\n",
       "  <tbody>\n",
       "    <tr>\n",
       "      <th>0</th>\n",
       "      <td>87</td>\n",
       "      <td>3</td>\n",
       "    </tr>\n",
       "    <tr>\n",
       "      <th>1</th>\n",
       "      <td>56</td>\n",
       "      <td>4</td>\n",
       "    </tr>\n",
       "    <tr>\n",
       "      <th>2</th>\n",
       "      <td>139</td>\n",
       "      <td>3</td>\n",
       "    </tr>\n",
       "    <tr>\n",
       "      <th>3</th>\n",
       "      <td>224</td>\n",
       "      <td>4</td>\n",
       "    </tr>\n",
       "    <tr>\n",
       "      <th>4</th>\n",
       "      <td>101</td>\n",
       "      <td>4</td>\n",
       "    </tr>\n",
       "    <tr>\n",
       "      <th>5</th>\n",
       "      <td>116</td>\n",
       "      <td>4</td>\n",
       "    </tr>\n",
       "    <tr>\n",
       "      <th>6</th>\n",
       "      <td>100</td>\n",
       "      <td>4</td>\n",
       "    </tr>\n",
       "    <tr>\n",
       "      <th>7</th>\n",
       "      <td>100</td>\n",
       "      <td>3</td>\n",
       "    </tr>\n",
       "    <tr>\n",
       "      <th>8</th>\n",
       "      <td>82</td>\n",
       "      <td>3</td>\n",
       "    </tr>\n",
       "    <tr>\n",
       "      <th>9</th>\n",
       "      <td>106</td>\n",
       "      <td>16</td>\n",
       "    </tr>\n",
       "    <tr>\n",
       "      <th>10</th>\n",
       "      <td>31</td>\n",
       "      <td>3</td>\n",
       "    </tr>\n",
       "    <tr>\n",
       "      <th>11</th>\n",
       "      <td>59</td>\n",
       "      <td>3</td>\n",
       "    </tr>\n",
       "    <tr>\n",
       "      <th>12</th>\n",
       "      <td>65</td>\n",
       "      <td>4</td>\n",
       "    </tr>\n",
       "    <tr>\n",
       "      <th>13</th>\n",
       "      <td>316</td>\n",
       "      <td>4</td>\n",
       "    </tr>\n",
       "    <tr>\n",
       "      <th>14</th>\n",
       "      <td>527</td>\n",
       "      <td>19</td>\n",
       "    </tr>\n",
       "    <tr>\n",
       "      <th>15</th>\n",
       "      <td>76</td>\n",
       "      <td>8</td>\n",
       "    </tr>\n",
       "    <tr>\n",
       "      <th>16</th>\n",
       "      <td>114</td>\n",
       "      <td>16</td>\n",
       "    </tr>\n",
       "    <tr>\n",
       "      <th>17</th>\n",
       "      <td>17</td>\n",
       "      <td>3</td>\n",
       "    </tr>\n",
       "    <tr>\n",
       "      <th>18</th>\n",
       "      <td>91</td>\n",
       "      <td>3</td>\n",
       "    </tr>\n",
       "    <tr>\n",
       "      <th>19</th>\n",
       "      <td>77</td>\n",
       "      <td>21</td>\n",
       "    </tr>\n",
       "    <tr>\n",
       "      <th>20</th>\n",
       "      <td>231</td>\n",
       "      <td>11</td>\n",
       "    </tr>\n",
       "    <tr>\n",
       "      <th>21</th>\n",
       "      <td>108</td>\n",
       "      <td>4</td>\n",
       "    </tr>\n",
       "    <tr>\n",
       "      <th>22</th>\n",
       "      <td>83</td>\n",
       "      <td>4</td>\n",
       "    </tr>\n",
       "    <tr>\n",
       "      <th>23</th>\n",
       "      <td>29</td>\n",
       "      <td>3</td>\n",
       "    </tr>\n",
       "    <tr>\n",
       "      <th>24</th>\n",
       "      <td>95</td>\n",
       "      <td>3</td>\n",
       "    </tr>\n",
       "    <tr>\n",
       "      <th>25</th>\n",
       "      <td>110</td>\n",
       "      <td>1</td>\n",
       "    </tr>\n",
       "    <tr>\n",
       "      <th>26</th>\n",
       "      <td>23</td>\n",
       "      <td>3</td>\n",
       "    </tr>\n",
       "    <tr>\n",
       "      <th>27</th>\n",
       "      <td>373</td>\n",
       "      <td>1</td>\n",
       "    </tr>\n",
       "    <tr>\n",
       "      <th>28</th>\n",
       "      <td>114</td>\n",
       "      <td>3</td>\n",
       "    </tr>\n",
       "    <tr>\n",
       "      <th>29</th>\n",
       "      <td>354</td>\n",
       "      <td>16</td>\n",
       "    </tr>\n",
       "    <tr>\n",
       "      <th>...</th>\n",
       "      <td>...</td>\n",
       "      <td>...</td>\n",
       "    </tr>\n",
       "    <tr>\n",
       "      <th>11198</th>\n",
       "      <td>17</td>\n",
       "      <td>3</td>\n",
       "    </tr>\n",
       "    <tr>\n",
       "      <th>11199</th>\n",
       "      <td>36</td>\n",
       "      <td>10</td>\n",
       "    </tr>\n",
       "    <tr>\n",
       "      <th>11200</th>\n",
       "      <td>81</td>\n",
       "      <td>3</td>\n",
       "    </tr>\n",
       "    <tr>\n",
       "      <th>11201</th>\n",
       "      <td>121</td>\n",
       "      <td>15</td>\n",
       "    </tr>\n",
       "    <tr>\n",
       "      <th>11202</th>\n",
       "      <td>504</td>\n",
       "      <td>21</td>\n",
       "    </tr>\n",
       "    <tr>\n",
       "      <th>11203</th>\n",
       "      <td>217</td>\n",
       "      <td>13</td>\n",
       "    </tr>\n",
       "    <tr>\n",
       "      <th>11204</th>\n",
       "      <td>54</td>\n",
       "      <td>8</td>\n",
       "    </tr>\n",
       "    <tr>\n",
       "      <th>11205</th>\n",
       "      <td>60</td>\n",
       "      <td>30</td>\n",
       "    </tr>\n",
       "    <tr>\n",
       "      <th>11206</th>\n",
       "      <td>16</td>\n",
       "      <td>16</td>\n",
       "    </tr>\n",
       "    <tr>\n",
       "      <th>11207</th>\n",
       "      <td>17</td>\n",
       "      <td>3</td>\n",
       "    </tr>\n",
       "    <tr>\n",
       "      <th>11208</th>\n",
       "      <td>60</td>\n",
       "      <td>4</td>\n",
       "    </tr>\n",
       "    <tr>\n",
       "      <th>11209</th>\n",
       "      <td>101</td>\n",
       "      <td>20</td>\n",
       "    </tr>\n",
       "    <tr>\n",
       "      <th>11210</th>\n",
       "      <td>69</td>\n",
       "      <td>3</td>\n",
       "    </tr>\n",
       "    <tr>\n",
       "      <th>11211</th>\n",
       "      <td>178</td>\n",
       "      <td>13</td>\n",
       "    </tr>\n",
       "    <tr>\n",
       "      <th>11212</th>\n",
       "      <td>29</td>\n",
       "      <td>3</td>\n",
       "    </tr>\n",
       "    <tr>\n",
       "      <th>11213</th>\n",
       "      <td>88</td>\n",
       "      <td>3</td>\n",
       "    </tr>\n",
       "    <tr>\n",
       "      <th>11214</th>\n",
       "      <td>63</td>\n",
       "      <td>3</td>\n",
       "    </tr>\n",
       "    <tr>\n",
       "      <th>11215</th>\n",
       "      <td>282</td>\n",
       "      <td>11</td>\n",
       "    </tr>\n",
       "    <tr>\n",
       "      <th>11216</th>\n",
       "      <td>112</td>\n",
       "      <td>18</td>\n",
       "    </tr>\n",
       "    <tr>\n",
       "      <th>11217</th>\n",
       "      <td>40</td>\n",
       "      <td>2</td>\n",
       "    </tr>\n",
       "    <tr>\n",
       "      <th>11218</th>\n",
       "      <td>55</td>\n",
       "      <td>3</td>\n",
       "    </tr>\n",
       "    <tr>\n",
       "      <th>11219</th>\n",
       "      <td>103</td>\n",
       "      <td>16</td>\n",
       "    </tr>\n",
       "    <tr>\n",
       "      <th>11220</th>\n",
       "      <td>396</td>\n",
       "      <td>3</td>\n",
       "    </tr>\n",
       "    <tr>\n",
       "      <th>11221</th>\n",
       "      <td>71</td>\n",
       "      <td>3</td>\n",
       "    </tr>\n",
       "    <tr>\n",
       "      <th>11222</th>\n",
       "      <td>19</td>\n",
       "      <td>3</td>\n",
       "    </tr>\n",
       "    <tr>\n",
       "      <th>11223</th>\n",
       "      <td>34</td>\n",
       "      <td>3</td>\n",
       "    </tr>\n",
       "    <tr>\n",
       "      <th>11224</th>\n",
       "      <td>116</td>\n",
       "      <td>8</td>\n",
       "    </tr>\n",
       "    <tr>\n",
       "      <th>11225</th>\n",
       "      <td>49</td>\n",
       "      <td>3</td>\n",
       "    </tr>\n",
       "    <tr>\n",
       "      <th>11226</th>\n",
       "      <td>89</td>\n",
       "      <td>3</td>\n",
       "    </tr>\n",
       "    <tr>\n",
       "      <th>11227</th>\n",
       "      <td>272</td>\n",
       "      <td>24</td>\n",
       "    </tr>\n",
       "  </tbody>\n",
       "</table>\n",
       "<p>11228 rows × 2 columns</p>\n",
       "</div>"
      ],
      "text/plain": [
       "       length  category\n",
       "0          87         3\n",
       "1          56         4\n",
       "2         139         3\n",
       "3         224         4\n",
       "4         101         4\n",
       "5         116         4\n",
       "6         100         4\n",
       "7         100         3\n",
       "8          82         3\n",
       "9         106        16\n",
       "10         31         3\n",
       "11         59         3\n",
       "12         65         4\n",
       "13        316         4\n",
       "14        527        19\n",
       "15         76         8\n",
       "16        114        16\n",
       "17         17         3\n",
       "18         91         3\n",
       "19         77        21\n",
       "20        231        11\n",
       "21        108         4\n",
       "22         83         4\n",
       "23         29         3\n",
       "24         95         3\n",
       "25        110         1\n",
       "26         23         3\n",
       "27        373         1\n",
       "28        114         3\n",
       "29        354        16\n",
       "...       ...       ...\n",
       "11198      17         3\n",
       "11199      36        10\n",
       "11200      81         3\n",
       "11201     121        15\n",
       "11202     504        21\n",
       "11203     217        13\n",
       "11204      54         8\n",
       "11205      60        30\n",
       "11206      16        16\n",
       "11207      17         3\n",
       "11208      60         4\n",
       "11209     101        20\n",
       "11210      69         3\n",
       "11211     178        13\n",
       "11212      29         3\n",
       "11213      88         3\n",
       "11214      63         3\n",
       "11215     282        11\n",
       "11216     112        18\n",
       "11217      40         2\n",
       "11218      55         3\n",
       "11219     103        16\n",
       "11220     396         3\n",
       "11221      71         3\n",
       "11222      19         3\n",
       "11223      34         3\n",
       "11224     116         8\n",
       "11225      49         3\n",
       "11226      89         3\n",
       "11227     272        24\n",
       "\n",
       "[11228 rows x 2 columns]"
      ]
     },
     "execution_count": 5,
     "metadata": {},
     "output_type": "execute_result"
    }
   ],
   "source": [
    "df"
   ]
  },
  {
   "cell_type": "markdown",
   "metadata": {},
   "source": [
    "Or, in a more informative fashion:"
   ]
  },
  {
   "cell_type": "code",
   "execution_count": 6,
   "metadata": {
    "collapsed": false
   },
   "outputs": [
    {
     "data": {
      "image/png": "[encoded data removed]",
      "text/plain": [
       "<matplotlib.figure.Figure at 0x7f4e83acef98>"
      ]
     },
     "metadata": {},
     "output_type": "display_data"
    }
   ],
   "source": [
    "%matplotlib inline\n",
    "import matplotlib.pyplot as plt\n",
    "plt.hist(df[\"length\"], bins=15, range=(0, 1000))\n",
    "plt.title(\"Docs' Lengths\")\n",
    "plt.xlabel(\"Length\")\n",
    "plt.ylabel(\"Frequency\")\n",
    "plt.show()"
   ]
  },
  {
   "cell_type": "markdown",
   "metadata": {},
   "source": [
    "### 3.3.4 Pre-trained word2vec embeddings"
   ]
  },
  {
   "cell_type": "code",
   "execution_count": 49,
   "metadata": {
    "collapsed": false
   },
   "outputs": [],
   "source": [
    "# TensorFlow resseting\n",
    "import tensorflow as tf\n",
    "import tflearn\n",
    "from reuters import load_data, get_word_index\n",
    "from gensim.models import Word2Vec\n",
    "import numpy as np\n",
    "from tflearn.data_utils import to_categorical, pad_sequences\n",
    "\n",
    "(X_train, y_train), (X_test,y_test) = load_data()\n",
    "data = get_word_index()"
   ]
  },
  {
   "cell_type": "code",
   "execution_count": 50,
   "metadata": {
    "collapsed": false
   },
   "outputs": [],
   "source": [
    "class MySentences(object):\n",
    "    def __init__(self, coded_sents):\n",
    "        self.coded_sents = coded_sents\n",
    " \n",
    "    def __iter__(self):\n",
    "        for coded_sent in self.coded_sents:\n",
    "            yield decode_doc(coded_sent)"
   ]
  },
  {
   "cell_type": "markdown",
   "metadata": {},
   "source": [
    "Train the Word2Vec model according to our dataset:"
   ]
  },
  {
   "cell_type": "code",
   "execution_count": 51,
   "metadata": {
    "collapsed": false,
    "scrolled": false
   },
   "outputs": [],
   "source": [
    "all_sents = MySentences(X_train + X_test)\n",
    "w2v_model = Word2Vec(all_sents, workers=4)"
   ]
  },
  {
   "cell_type": "markdown",
   "metadata": {},
   "source": [
    "Prepare weights matrix"
   ]
  },
  {
   "cell_type": "code",
   "execution_count": 52,
   "metadata": {
    "collapsed": false
   },
   "outputs": [],
   "source": [
    "embedding_matrix = np.random.rand(len(data) + 1, 100)\n",
    "for word, idx in data.items():\n",
    "    vec = np.random.rand(100)\n",
    "    if word in w2v_model:\n",
    "        vec = w2v_model[word]\n",
    "    embedding_matrix[idx] = vec"
   ]
  },
  {
   "cell_type": "code",
   "execution_count": 53,
   "metadata": {
    "collapsed": true
   },
   "outputs": [],
   "source": [
    "# Sequence padding\n",
    "X_train_padded = pad_sequences(X_train, maxlen=100, value=0.)\n",
    "X_test_padded = pad_sequences(X_test, maxlen=100, value=0.)\n",
    "# Converting labels to binary vectors\n",
    "y_train_cat = to_categorical(y_train, nb_classes=46)\n",
    "y_test_cat = to_categorical(y_test, nb_classes=46)"
   ]
  },
  {
   "cell_type": "code",
   "execution_count": 54,
   "metadata": {
    "collapsed": false
   },
   "outputs": [],
   "source": [
    "# TensorFlow resseting\n",
    "tf.reset_default_graph()\n",
    "\n",
    "# Network building\n",
    "net4 = tflearn.input_data([None, 100])\n",
    "net4 = tflearn.embedding(net4, input_dim=len(data)+1, output_dim=100, trainable=False, name=\"EmbeddingLayer\")\n",
    "net4 = tflearn.lstm(net4, 128, dropout=0.8)\n",
    "net4 = tflearn.fully_connected(net4, 46, activation='softmax')\n",
    "net4 = tflearn.regression(net4, optimizer='adam', learning_rate=0.001,\n",
    "                         loss='categorical_crossentropy')\n",
    "\n",
    "model4 = tflearn.DNN(net4, tensorboard_verbose=0)\n",
    "\n",
    "# Retrieve embedding layer weights (only a single weight matrix, so index is 0)\n",
    "embeddingWeights = tflearn.get_layer_variables_by_name('EmbeddingLayer')[0]\n",
    "# Assign your own weights (for example, a numpy array [input_dim, output_dim])\n",
    "model4.set_weights(embeddingWeights, embedding_matrix)\n"
   ]
  },
  {
   "cell_type": "code",
   "execution_count": 55,
   "metadata": {
    "collapsed": false
   },
   "outputs": [
    {
     "name": "stdout",
     "output_type": "stream",
     "text": [
      "Training Step: 2810  | total loss: \u001b[1m\u001b[32m0.95048\u001b[0m\u001b[0m\n",
      "| Adam | epoch: 010 | loss: 0.95048 - acc: 0.7472 | val_loss: 1.08895 - val_acc: 0.7226 -- iter: 8982/8982\n",
      "Training Step: 2810  | total loss: \u001b[1m\u001b[32m0.95048\u001b[0m\u001b[0m\n",
      "| Adam | epoch: 010 | loss: 0.95048 - acc: 0.7472 | val_loss: 1.08895 - val_acc: 0.7226 -- iter: 8982/8982\n",
      "--\n"
     ]
    }
   ],
   "source": [
    "# Training\n",
    "model4.fit(X_train_padded, y_train_cat, validation_set=(X_test_padded, y_test_cat), show_metric=True,\n",
    "batch_size=32)"
   ]
  }
 ],
 "metadata": {
  "kernelspec": {
   "display_name": "Python 3",
   "language": "python",
   "name": "python3"
  },
  "language_info": {
   "codemirror_mode": {
    "name": "ipython",
    "version": 3
   },
   "file_extension": ".py",
   "mimetype": "text/x-python",
   "name": "python",
   "nbconvert_exporter": "python",
   "pygments_lexer": "ipython3",
   "version": "3.5.2"
  }
 },
 "nbformat": 4,
 "nbformat_minor": 2
}
